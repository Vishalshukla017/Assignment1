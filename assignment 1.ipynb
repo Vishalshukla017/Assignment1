{
 "cells": [
  {
   "cell_type": "markdown",
   "id": "0a953f5e-b47c-4d9b-b884-30bf63d73ca9",
   "metadata": {},
   "source": [
    "## Question 1"
   ]
  },
  {
   "cell_type": "code",
   "execution_count": 1,
   "id": "ed8b2842-255a-41cb-9816-4b4b76796e99",
   "metadata": {},
   "outputs": [],
   "source": [
    "a='string'"
   ]
  },
  {
   "cell_type": "code",
   "execution_count": 2,
   "id": "c51927ed-40fd-4db1-bb5f-26149abed99f",
   "metadata": {},
   "outputs": [
    {
     "data": {
      "text/plain": [
       "str"
      ]
     },
     "execution_count": 2,
     "metadata": {},
     "output_type": "execute_result"
    }
   ],
   "source": [
    "type(a)"
   ]
  },
  {
   "cell_type": "code",
   "execution_count": 3,
   "id": "86afda2f-a64f-4e0f-ba79-924c918d9f9b",
   "metadata": {},
   "outputs": [],
   "source": [
    "b=[2,3,4,True,False,25.5,3+4j,'abcd']"
   ]
  },
  {
   "cell_type": "code",
   "execution_count": 4,
   "id": "b6c0b136-9cbb-4036-918c-9cffb88dd829",
   "metadata": {},
   "outputs": [
    {
     "data": {
      "text/plain": [
       "list"
      ]
     },
     "execution_count": 4,
     "metadata": {},
     "output_type": "execute_result"
    }
   ],
   "source": [
    "type(b)"
   ]
  },
  {
   "cell_type": "code",
   "execution_count": 5,
   "id": "ebca407e-6ae2-48a1-9fff-a8df9d8b4394",
   "metadata": {},
   "outputs": [],
   "source": [
    "c=25.5"
   ]
  },
  {
   "cell_type": "code",
   "execution_count": 6,
   "id": "09ab0ec4-8ec1-4bcc-8add-71caeed4ba8d",
   "metadata": {},
   "outputs": [
    {
     "data": {
      "text/plain": [
       "float"
      ]
     },
     "execution_count": 6,
     "metadata": {},
     "output_type": "execute_result"
    }
   ],
   "source": [
    "type(c)"
   ]
  },
  {
   "cell_type": "code",
   "execution_count": 7,
   "id": "5e6efdd8-7ee5-40a2-8e52-bdd45d2ac68a",
   "metadata": {},
   "outputs": [],
   "source": [
    "d=(2,3,4)"
   ]
  },
  {
   "cell_type": "code",
   "execution_count": 8,
   "id": "6ac68898-443d-411b-b385-8a7b83d1bca6",
   "metadata": {},
   "outputs": [
    {
     "data": {
      "text/plain": [
       "tuple"
      ]
     },
     "execution_count": 8,
     "metadata": {},
     "output_type": "execute_result"
    }
   ],
   "source": [
    "type(d)"
   ]
  },
  {
   "cell_type": "markdown",
   "id": "eab05c54-6a05-400a-a561-9a0afa7df461",
   "metadata": {},
   "source": [
    "## Question 2"
   ]
  },
  {
   "cell_type": "code",
   "execution_count": 9,
   "id": "5798a5f4-83e6-4c03-b5a3-bcfdf460311f",
   "metadata": {},
   "outputs": [],
   "source": [
    "a='vishal'"
   ]
  },
  {
   "cell_type": "code",
   "execution_count": 10,
   "id": "45276c36-de5c-4b95-929f-518136174fb9",
   "metadata": {},
   "outputs": [
    {
     "data": {
      "text/plain": [
       "str"
      ]
     },
     "execution_count": 10,
     "metadata": {},
     "output_type": "execute_result"
    }
   ],
   "source": [
    "type(a)"
   ]
  },
  {
   "cell_type": "code",
   "execution_count": 12,
   "id": "81f68f77-50f7-49cc-9bcf-0228ea3e9958",
   "metadata": {},
   "outputs": [],
   "source": [
    "b='[DS , ML , Python]'"
   ]
  },
  {
   "cell_type": "code",
   "execution_count": 13,
   "id": "66f8c8e2-c85f-48bd-9039-ce43e70fc750",
   "metadata": {},
   "outputs": [
    {
     "data": {
      "text/plain": [
       "str"
      ]
     },
     "execution_count": 13,
     "metadata": {},
     "output_type": "execute_result"
    }
   ],
   "source": [
    "type(b)"
   ]
  },
  {
   "cell_type": "code",
   "execution_count": 14,
   "id": "3667ecc9-aeae-4c24-8af0-140ba7daf5bd",
   "metadata": {},
   "outputs": [],
   "source": [
    "c= [ 'DS' , 'ML' , 'Python' ]"
   ]
  },
  {
   "cell_type": "code",
   "execution_count": 15,
   "id": "01e76413-4ba0-4b98-a78d-c2909434247d",
   "metadata": {},
   "outputs": [
    {
     "data": {
      "text/plain": [
       "list"
      ]
     },
     "execution_count": 15,
     "metadata": {},
     "output_type": "execute_result"
    }
   ],
   "source": [
    "type(c)"
   ]
  },
  {
   "cell_type": "code",
   "execution_count": 16,
   "id": "f45451a5-e3a9-4cd0-a719-2e128705f082",
   "metadata": {},
   "outputs": [],
   "source": [
    "d=1"
   ]
  },
  {
   "cell_type": "code",
   "execution_count": 17,
   "id": "5f23e602-cbeb-4e45-9ea6-c60ecfe5e0a6",
   "metadata": {},
   "outputs": [
    {
     "data": {
      "text/plain": [
       "int"
      ]
     },
     "execution_count": 17,
     "metadata": {},
     "output_type": "execute_result"
    }
   ],
   "source": [
    "type(d)"
   ]
  },
  {
   "cell_type": "markdown",
   "id": "df1a184d-cc39-445d-a9c7-40c977c6368c",
   "metadata": {},
   "source": [
    "## Question 3"
   ]
  },
  {
   "cell_type": "markdown",
   "id": "6fba70f4-d7b8-4010-8bcf-3b4b0ac6ee2c",
   "metadata": {},
   "source": [
    "Answer=   / means division"
   ]
  },
  {
   "cell_type": "code",
   "execution_count": 18,
   "id": "e834a70e-452e-4cdc-9018-1795fd9acce5",
   "metadata": {},
   "outputs": [
    {
     "data": {
      "text/plain": [
       "1.25"
      ]
     },
     "execution_count": 18,
     "metadata": {},
     "output_type": "execute_result"
    }
   ],
   "source": [
    "5/4"
   ]
  },
  {
   "cell_type": "markdown",
   "id": "b7f17f66-741a-46d0-9ad7-21eba698a32d",
   "metadata": {},
   "source": [
    "% means remainder"
   ]
  },
  {
   "cell_type": "code",
   "execution_count": 19,
   "id": "c5f1553e-de86-4677-81be-434190e5d647",
   "metadata": {},
   "outputs": [
    {
     "data": {
      "text/plain": [
       "1"
      ]
     },
     "execution_count": 19,
     "metadata": {},
     "output_type": "execute_result"
    }
   ],
   "source": [
    "5%4"
   ]
  },
  {
   "cell_type": "code",
   "execution_count": 20,
   "id": "cec6c7e7-2813-4e83-97f4-4d0324ed469e",
   "metadata": {},
   "outputs": [
    {
     "data": {
      "text/plain": [
       "0"
      ]
     },
     "execution_count": 20,
     "metadata": {},
     "output_type": "execute_result"
    }
   ],
   "source": [
    "8%4"
   ]
  },
  {
   "cell_type": "markdown",
   "id": "3c1b518d-f128-46de-be7a-4c397bb83603",
   "metadata": {},
   "source": [
    "// means quotient"
   ]
  },
  {
   "cell_type": "code",
   "execution_count": 21,
   "id": "bb7b9e85-6abf-4b06-a248-983345de58cb",
   "metadata": {},
   "outputs": [
    {
     "data": {
      "text/plain": [
       "1"
      ]
     },
     "execution_count": 21,
     "metadata": {},
     "output_type": "execute_result"
    }
   ],
   "source": [
    "5//4"
   ]
  },
  {
   "cell_type": "code",
   "execution_count": 22,
   "id": "35f3a7d9-baed-4bae-94b3-7262a1473d1a",
   "metadata": {},
   "outputs": [
    {
     "data": {
      "text/plain": [
       "2"
      ]
     },
     "execution_count": 22,
     "metadata": {},
     "output_type": "execute_result"
    }
   ],
   "source": [
    "8//4"
   ]
  },
  {
   "cell_type": "markdown",
   "id": "88ce8516-774b-4c2b-a312-83cf2e7aff82",
   "metadata": {},
   "source": [
    "** means exponential( to the power of)"
   ]
  },
  {
   "cell_type": "code",
   "execution_count": 23,
   "id": "a2f0a28c-922c-4a06-bc33-8df8b2d63228",
   "metadata": {},
   "outputs": [
    {
     "data": {
      "text/plain": [
       "625"
      ]
     },
     "execution_count": 23,
     "metadata": {},
     "output_type": "execute_result"
    }
   ],
   "source": [
    "5**4"
   ]
  },
  {
   "cell_type": "code",
   "execution_count": 24,
   "id": "fb1792ca-7123-4621-94a0-eac75362b918",
   "metadata": {},
   "outputs": [
    {
     "data": {
      "text/plain": [
       "4096"
      ]
     },
     "execution_count": 24,
     "metadata": {},
     "output_type": "execute_result"
    }
   ],
   "source": [
    "8**4"
   ]
  },
  {
   "cell_type": "code",
   "execution_count": 7,
   "id": "fbd8dc57-c80f-4255-8341-5a7876b15d1f",
   "metadata": {},
   "outputs": [],
   "source": [
    "## question 4"
   ]
  },
  {
   "cell_type": "markdown",
   "id": "ac503ff1-9044-4875-8828-05d56a9194d3",
   "metadata": {},
   "source": [
    "## Question 4"
   ]
  },
  {
   "cell_type": "code",
   "execution_count": 1,
   "id": "62e41f2f-987b-4f7d-bd75-43a28168df2b",
   "metadata": {},
   "outputs": [
    {
     "name": "stdout",
     "output_type": "stream",
     "text": [
      "1\n",
      "<class 'int'>\n",
      "2\n",
      "<class 'int'>\n",
      "3\n",
      "<class 'int'>\n",
      "2.3\n",
      "<class 'float'>\n",
      "True\n",
      "<class 'bool'>\n",
      "False\n",
      "<class 'bool'>\n",
      "(3+2j)\n",
      "<class 'complex'>\n",
      "vishal\n",
      "<class 'str'>\n",
      "25\n",
      "<class 'int'>\n",
      "name\n",
      "<class 'str'>\n"
     ]
    }
   ],
   "source": [
    "a=[1,2,3,2.3,True,False,3+2j,'vishal',25,\"name\"]\n",
    "for i in a:\n",
    "    print (i)\n",
    "    print(type(i))"
   ]
  },
  {
   "cell_type": "markdown",
   "id": "5eeea67a-4922-41ce-9252-2c3ad51f4faa",
   "metadata": {},
   "source": [
    "\n",
    "\n",
    "## Question 5"
   ]
  },
  {
   "cell_type": "code",
   "execution_count": 2,
   "id": "51ae870f-5ddd-4932-ae7b-437edc7377d7",
   "metadata": {},
   "outputs": [
    {
     "name": "stdout",
     "output_type": "stream",
     "text": [
      "the number 45  is divisible by 3 by 2 times\n"
     ]
    }
   ],
   "source": [
    "a=45\n",
    "b=a\n",
    "c=3\n",
    "count=0\n",
    "while b %c== 0:\n",
    "    b=b/c\n",
    "    count +=1\n",
    "print(\"the number\",a,\" is divisible by\", c, \"by\", count, \"times\")"
   ]
  },
  {
   "cell_type": "markdown",
   "id": "6337aa62-500a-409f-8b55-b725bde0ae67",
   "metadata": {},
   "source": [
    "## question 6"
   ]
  },
  {
   "cell_type": "markdown",
   "id": "f8a4edec-ccbf-45aa-a9db-cc02cb4a7083",
   "metadata": {},
   "source": [
    "Question 6"
   ]
  },
  {
   "cell_type": "code",
   "execution_count": 3,
   "id": "c859c618-396c-413c-b980-45af2d2fc85b",
   "metadata": {},
   "outputs": [
    {
     "name": "stdout",
     "output_type": "stream",
     "text": [
      "1\n",
      "Number is not divisible by 3\n",
      "2\n",
      "Number is not divisible by 3\n",
      "3\n",
      " Number is divisible by 3\n",
      "4\n",
      "Number is not divisible by 3\n",
      "5\n",
      "Number is not divisible by 3\n",
      "6\n",
      " Number is divisible by 3\n",
      "7\n",
      "Number is not divisible by 3\n",
      "8\n",
      "Number is not divisible by 3\n",
      "9\n",
      " Number is divisible by 3\n",
      "10\n",
      "Number is not divisible by 3\n",
      "11\n",
      "Number is not divisible by 3\n",
      "12\n",
      " Number is divisible by 3\n",
      "13\n",
      "Number is not divisible by 3\n",
      "14\n",
      "Number is not divisible by 3\n",
      "15\n",
      " Number is divisible by 3\n",
      "16\n",
      "Number is not divisible by 3\n",
      "17\n",
      "Number is not divisible by 3\n",
      "18\n",
      " Number is divisible by 3\n",
      "19\n",
      "Number is not divisible by 3\n",
      "20\n",
      "Number is not divisible by 3\n",
      "21\n",
      " Number is divisible by 3\n",
      "22\n",
      "Number is not divisible by 3\n",
      "23\n",
      "Number is not divisible by 3\n",
      "24\n",
      " Number is divisible by 3\n",
      "25\n",
      "Number is not divisible by 3\n"
     ]
    }
   ],
   "source": [
    "a=[1,2,3,4,5,6,7,8,9,10,11,12,13,14,15,16,17,18,19,20,21,22,23,24,25]\n",
    "for i in a:\n",
    "    print(i)\n",
    "    if i%3==0:\n",
    "        print(\" Number is divisible by 3\")\n",
    "    else:\n",
    "        print(\"Number is not divisible by 3\")\n",
    "    "
   ]
  },
  {
   "cell_type": "code",
   "execution_count": 5,
   "id": "dd022cf9-cb00-443b-b85e-3b970f81d59c",
   "metadata": {},
   "outputs": [],
   "source": [
    "## question 7"
   ]
  },
  {
   "cell_type": "markdown",
   "id": "3a16cf39-52d6-4a37-b3ef-7c7da7451379",
   "metadata": {},
   "source": [
    "## Question 7"
   ]
  },
  {
   "cell_type": "markdown",
   "id": "9f770349-2698-4938-ab1d-fcdc410a4a42",
   "metadata": {},
   "source": [
    "Mutable object allow to change character . example list is the data type."
   ]
  },
  {
   "cell_type": "code",
   "execution_count": 8,
   "id": "2ec4cd43-8d94-410e-917e-93006d84bb39",
   "metadata": {},
   "outputs": [],
   "source": [
    "a=[2,3,4,5]"
   ]
  },
  {
   "cell_type": "code",
   "execution_count": 9,
   "id": "1c2de798-68f8-416c-833f-e21af6d590f7",
   "metadata": {},
   "outputs": [],
   "source": [
    "a[0]=\"vishal\""
   ]
  },
  {
   "cell_type": "code",
   "execution_count": 10,
   "id": "6c7fff3a-3e18-4c9f-9947-ca4c1dd7ecf3",
   "metadata": {},
   "outputs": [
    {
     "data": {
      "text/plain": [
       "['vishal', 3, 4, 5]"
      ]
     },
     "execution_count": 10,
     "metadata": {},
     "output_type": "execute_result"
    }
   ],
   "source": [
    "a"
   ]
  },
  {
   "cell_type": "markdown",
   "id": "2f02bc4c-ac64-45ed-860d-f0cbaf9e4de3",
   "metadata": {},
   "source": [
    "Immutable object does not allow to change character . example string is the data type."
   ]
  },
  {
   "cell_type": "code",
   "execution_count": 11,
   "id": "0bc2dc58-7571-4cf9-99cb-fb39834cd8b6",
   "metadata": {},
   "outputs": [],
   "source": [
    "s=\"vishal\""
   ]
  },
  {
   "cell_type": "code",
   "execution_count": 12,
   "id": "1ffb1af8-998b-46c7-9736-63d8f04d3482",
   "metadata": {},
   "outputs": [
    {
     "data": {
      "text/plain": [
       "'s'"
      ]
     },
     "execution_count": 12,
     "metadata": {},
     "output_type": "execute_result"
    }
   ],
   "source": [
    "s[2]"
   ]
  },
  {
   "cell_type": "code",
   "execution_count": 13,
   "id": "67bf5428-a8a5-4ca0-9690-267078adc4b6",
   "metadata": {},
   "outputs": [
    {
     "ename": "TypeError",
     "evalue": "'str' object does not support item assignment",
     "output_type": "error",
     "traceback": [
      "\u001b[0;31m---------------------------------------------------------------------------\u001b[0m",
      "\u001b[0;31mTypeError\u001b[0m                                 Traceback (most recent call last)",
      "Cell \u001b[0;32mIn[13], line 1\u001b[0m\n\u001b[0;32m----> 1\u001b[0m \u001b[43ms\u001b[49m\u001b[43m[\u001b[49m\u001b[38;5;241;43m2\u001b[39;49m\u001b[43m]\u001b[49m\u001b[38;5;241m=\u001b[39m\u001b[38;5;124m\"\u001b[39m\u001b[38;5;124md\u001b[39m\u001b[38;5;124m\"\u001b[39m\n",
      "\u001b[0;31mTypeError\u001b[0m: 'str' object does not support item assignment"
     ]
    }
   ],
   "source": [
    "s[2]=\"d\""
   ]
  },
  {
   "cell_type": "code",
   "execution_count": null,
   "id": "b26b5811-1169-4f52-8d25-8be1db4ee5d8",
   "metadata": {},
   "outputs": [],
   "source": []
  }
 ],
 "metadata": {
  "kernelspec": {
   "display_name": "Python 3 (ipykernel)",
   "language": "python",
   "name": "python3"
  },
  "language_info": {
   "codemirror_mode": {
    "name": "ipython",
    "version": 3
   },
   "file_extension": ".py",
   "mimetype": "text/x-python",
   "name": "python",
   "nbconvert_exporter": "python",
   "pygments_lexer": "ipython3",
   "version": "3.10.8"
  }
 },
 "nbformat": 4,
 "nbformat_minor": 5
}
